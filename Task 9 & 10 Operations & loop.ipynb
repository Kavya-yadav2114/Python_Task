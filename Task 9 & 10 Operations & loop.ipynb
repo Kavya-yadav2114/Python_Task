{
 "cells": [
  {
   "cell_type": "markdown",
   "metadata": {},
   "source": [
    "#Task9\n",
    "#Ask 2 numbers from users and store it in num1 and num2 Ask user to press 1 for addition,2 for subtraction,3 for multiplication and 4 for division based on number given by user do the math operation"
   ]
  },
  {
   "cell_type": "code",
   "execution_count": 3,
   "metadata": {},
   "outputs": [
    {
     "name": "stdout",
     "output_type": "stream",
     "text": [
      "enter a num1 3\n",
      "enter a num2 8\n",
      "press a key number to do operation 1.additon 2.substraction 3.multiplications 3\n",
      "multiplication of two number is 12\n"
     ]
    }
   ],
   "source": [
    "N1=int(input(\"enter a num1 \"))\n",
    "N2=int(input(\"enter a num2 \"))\n",
    "o=int(input(\"press a key number to do operation 1.additon 2.substraction 3.multiplications \"))\n",
    "if(o==1):\n",
    "    print(\"sum of two number is\",end=\" \")\n",
    "    print(num1 + num2)\n",
    "elif(o==2):\n",
    "    sub=num1-num2\n",
    "    print(\"substraction of two number is\",end=\" \")\n",
    "    print(sub)\n",
    "else:\n",
    "    mul=num1*num2\n",
    "    print(\"multiplication of two number is\",end=\" \")\n",
    "    print(mul)"
   ]
  },
  {
   "cell_type": "code",
   "execution_count": 4,
   "metadata": {},
   "outputs": [],
   "source": [
    "#Task10\n",
    "#using while loop print numbers from 10 to 1\n",
    "#try using for loop to loop over tuples,sets and dictionaries"
   ]
  },
  {
   "cell_type": "code",
   "execution_count": 5,
   "metadata": {},
   "outputs": [
    {
     "name": "stdout",
     "output_type": "stream",
     "text": [
      "10\n",
      "9\n",
      "8\n",
      "7\n",
      "6\n",
      "5\n",
      "4\n",
      "3\n",
      "2\n",
      "1\n"
     ]
    }
   ],
   "source": [
    "#using while loop print numbers from 10 to 1\n",
    "count=10\n",
    "while(count>0):\n",
    "    print(count)\n",
    "    count=count-1"
   ]
  },
  {
   "cell_type": "code",
   "execution_count": 8,
   "metadata": {},
   "outputs": [
    {
     "name": "stdout",
     "output_type": "stream",
     "text": [
      "1\n",
      "2\n",
      "3\n",
      "4\n",
      "5\n"
     ]
    }
   ],
   "source": [
    "#using for loop to loop over tuples\n",
    "tup1=(1,2,3,4,5)\n",
    "for i in tup1:\n",
    "    print(i)"
   ]
  },
  {
   "cell_type": "code",
   "execution_count": 13,
   "metadata": {},
   "outputs": [
    {
     "name": "stdout",
     "output_type": "stream",
     "text": [
      "1\n",
      "2\n",
      "3\n",
      "4\n",
      "5\n",
      "7\n",
      "9\n"
     ]
    }
   ],
   "source": [
    "#using for loop on sets\n",
    "Set= {1,2,3,4,5,7,9}\n",
    "for i in Set:\n",
    "    print(i)"
   ]
  },
  {
   "cell_type": "code",
   "execution_count": 17,
   "metadata": {},
   "outputs": [
    {
     "name": "stdout",
     "output_type": "stream",
     "text": [
      "name kavya\n",
      "age 26\n",
      "Gender female\n"
     ]
    }
   ],
   "source": [
    "#using for loop on dictionaries\n",
    "dict1= {\"name\":\"kavya\" , \"age\" : 26 ,\"Gender\":\"female\"}\n",
    "for i,j in dict1.items():\n",
    "    print(i,j)"
   ]
  }
 ],
 "metadata": {
  "kernelspec": {
   "display_name": "Python 3",
   "language": "python",
   "name": "python3"
  },
  "language_info": {
   "codemirror_mode": {
    "name": "ipython",
    "version": 3
   },
   "file_extension": ".py",
   "mimetype": "text/x-python",
   "name": "python",
   "nbconvert_exporter": "python",
   "pygments_lexer": "ipython3",
   "version": "3.7.0"
  }
 },
 "nbformat": 4,
 "nbformat_minor": 2
}
