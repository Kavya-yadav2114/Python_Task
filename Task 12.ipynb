{
 "cells": [
  {
   "cell_type": "code",
   "execution_count": null,
   "metadata": {},
   "outputs": [],
   "source": [
    "# 1. Write a function to remove duplicate values in a string\n",
    "#Ex: 'Hello' as input , the output should be 'helo' ,'good' as input , the output should be'god"
   ]
  },
  {
   "cell_type": "code",
   "execution_count": 6,
   "metadata": {},
   "outputs": [
    {
     "name": "stdout",
     "output_type": "stream",
     "text": [
      "enter a dulicate values :Hellllo\n",
      "output string : Helo\n"
     ]
    }
   ],
   "source": [
    "def removingMultivalue(string):\n",
    "    s=set()\n",
    "    l=[]\n",
    "    for i in string:\n",
    "        \n",
    "        if i not in s:\n",
    "            s.add(i)\n",
    "            l.append(i)\n",
    "    return ''.join(l)\n",
    "string = input(\"enter a dulicate values :\")\n",
    "print(\"output string :\" ,removingMultivalue(string))"
   ]
  },
  {
   "cell_type": "code",
   "execution_count": 5,
   "metadata": {},
   "outputs": [
    {
     "name": "stdout",
     "output_type": "stream",
     "text": [
      "enter a dulicate values :Good\n",
      "output string : God\n"
     ]
    }
   ],
   "source": [
    "def removingMultivalue(string):\n",
    "    s=set()\n",
    "    l=[]\n",
    "    for i in string:\n",
    "        \n",
    "        if i not in s:\n",
    "            s.add(i)\n",
    "            l.append(i)\n",
    "    return ''.join(l)\n",
    "string = input(\"enter a dulicate values :\")\n",
    "print(\"output string :\" ,removingMultivalue(string))"
   ]
  },
  {
   "cell_type": "code",
   "execution_count": 7,
   "metadata": {},
   "outputs": [],
   "source": [
    "#2. Write a class and method under it to perform squareRoot ,cube root and Nth root of a number\n",
    "# Ex: If I pass number 8 and 3 ,it should return cube root of 8. If I pass 16 and 4 , it should return forth root of 16"
   ]
  },
  {
   "cell_type": "code",
   "execution_count": 17,
   "metadata": {},
   "outputs": [
    {
     "name": "stdout",
     "output_type": "stream",
     "text": [
      "enter the number  8\n",
      "enter the root  3\n",
      "2.0\n"
     ]
    }
   ],
   "source": [
    "class nroots:\n",
    "    def roots(x,y):\n",
    "        z=x**(1.0/y)\n",
    "        return z\n",
    "num=int(input (\"enter the number  \"))\n",
    "rootnum = int(input(\"enter the root  \"))\n",
    "ob=nroots.roots(no,rootnum)\n",
    "print(ob)"
   ]
  },
  {
   "cell_type": "code",
   "execution_count": 18,
   "metadata": {},
   "outputs": [],
   "source": [
    "#3. Write a function which takes a list as input and returns list in a reverse order.\n",
    "#Ex: [1,3,4,5,6] the output should be [6,5,4,3,1]"
   ]
  },
  {
   "cell_type": "code",
   "execution_count": 1,
   "metadata": {},
   "outputs": [
    {
     "name": "stdout",
     "output_type": "stream",
     "text": [
      "enter number of elements : 5\n",
      "enter element No1: \n",
      "6\n",
      "enter element No2: \n",
      "5\n",
      "enter element No3: \n",
      "4\n",
      "enter element No4: \n",
      "3\n",
      "enter element No5: \n",
      "1\n",
      "Entered list is: /n [6, 5, 4, 3, 1]\n",
      "Reverse list is  [1, 3, 4, 5, 6]\n"
     ]
    }
   ],
   "source": [
    "def reverselist(input_list):\n",
    "    input_list.reverse()\n",
    "    return input_list\n",
    "in_list=[]\n",
    "n = int(input(\"enter number of elements : \"))\n",
    "for i in range(0, n):\n",
    "    print(\"enter element No{}: \".format(i+1))\n",
    "    m=int(input())\n",
    "    in_list.append(m)\n",
    "print(\"Entered list is: /n\",in_list)\n",
    "print(\"Reverse list is \", reverselist(in_list))"
   ]
  },
  {
   "cell_type": "code",
   "execution_count": 3,
   "metadata": {},
   "outputs": [],
   "source": [
    "#4. Write a class which takes three inputs and returns the smallest and largest number.\n",
    "# Ex : className.smallest(1,2,3) should return 1. ClassName.largest(1,2,3) should return 3."
   ]
  },
  {
   "cell_type": "code",
   "execution_count": 6,
   "metadata": {},
   "outputs": [
    {
     "name": "stdout",
     "output_type": "stream",
     "text": [
      "Enter number if elements : 4\n",
      "Enter element no 1\n",
      "8\n",
      "Enter element no 2\n",
      "3\n",
      "Enter element no 3\n",
      "6\n",
      "Enter element no 4\n",
      "4\n",
      "Enter tuple is: \n",
      "  (8, 3, 6, 4)\n",
      "Largest number in tuple is 8\n",
      "Smallest numner in tuple is 3\n"
     ]
    }
   ],
   "source": [
    "class find:\n",
    "    def large(tup):\n",
    "        largest=tup[0]\n",
    "        for i in range(len(tup)):\n",
    "            if largest<tup[i]:\n",
    "                largest = tup[i]\n",
    "        return largest\n",
    "    def small(tup):\n",
    "        small=tup[0]\n",
    "        for i in range(len(tup)):\n",
    "            if small>tup[i]:\n",
    "                small=tup[i]\n",
    "        return small\n",
    "in_list=[]\n",
    "n = int(input(\"Enter number if elements : \"))\n",
    "for i in range (0, n):\n",
    "    print(\"Enter element no {}\".format(i+1))\n",
    "    element = int(input())\n",
    "    in_list.append(element)\n",
    "tup1=tuple(in_list)\n",
    "print(\"Enter tuple is: \\n \",tup1)\n",
    "print(\"Largest number in tuple is\" , find.large(tup1))\n",
    "print(\"Smallest numner in tuple is\",find.small(tup1))"
   ]
  }
 ],
 "metadata": {
  "kernelspec": {
   "display_name": "Python 3",
   "language": "python",
   "name": "python3"
  },
  "language_info": {
   "codemirror_mode": {
    "name": "ipython",
    "version": 3
   },
   "file_extension": ".py",
   "mimetype": "text/x-python",
   "name": "python",
   "nbconvert_exporter": "python",
   "pygments_lexer": "ipython3",
   "version": "3.7.0"
  }
 },
 "nbformat": 4,
 "nbformat_minor": 2
}
