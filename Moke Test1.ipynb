{
 "cells": [
  {
   "cell_type": "code",
   "execution_count": 7,
   "metadata": {},
   "outputs": [
    {
     "name": "stdout",
     "output_type": "stream",
     "text": [
      "Enter number of elements in list :5\n",
      "Enter elements :12\n",
      "Enter elements :67\n",
      "Enter elements :21\n",
      "Enter elements :75\n",
      "Enter elements :98\n",
      "Largest element is: 98\n"
     ]
    }
   ],
   "source": [
    "#Empty List\n",
    "list1 =[]\n",
    "\n",
    "#Asking number of elements enter in list\n",
    "num = int(input(\"Enter number of elements in list :\"))\n",
    "\n",
    "#append elements in list\n",
    "for i in range(1,num+1):\n",
    "    ele =int(input(\"Enter elements :\"))\n",
    "    list1.append(ele) \n",
    "    \n",
    "print(\"Largest element is:\" ,max(list1))"
   ]
  },
  {
   "cell_type": "markdown",
   "metadata": {},
   "source": []
  }
 ],
 "metadata": {
  "kernelspec": {
   "display_name": "Python 3",
   "language": "python",
   "name": "python3"
  },
  "language_info": {
   "codemirror_mode": {
    "name": "ipython",
    "version": 3
   },
   "file_extension": ".py",
   "mimetype": "text/x-python",
   "name": "python",
   "nbconvert_exporter": "python",
   "pygments_lexer": "ipython3",
   "version": "3.7.0"
  }
 },
 "nbformat": 4,
 "nbformat_minor": 2
}
