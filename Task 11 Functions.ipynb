{
 "cells": [
  {
   "cell_type": "code",
   "execution_count": 1,
   "metadata": {},
   "outputs": [],
   "source": [
    "#Task11\n",
    "#Ask 2 numbers from users and store it in num1 and num2\n",
    "#Ask user to press 1 for addition,2 for subtraction,3 for multiplication and 4 for division\n",
    "#create 4 seperate functions for each operation (i.e. addition,subtraction,multiplication and division)\n",
    "#based on number given by user,call that perticular function and print the output"
   ]
  },
  {
   "cell_type": "code",
   "execution_count": 3,
   "metadata": {},
   "outputs": [
    {
     "name": "stdout",
     "output_type": "stream",
     "text": [
      "enter a number 1   4\n",
      "enter a number 2   2\n",
      "enter a key to do a operation 1.addition 2.substration 3.multiplication 4.division4\n",
      "division of two number is 2.0\n"
     ]
    }
   ],
   "source": [
    "def add(a,b):\n",
    "    c=a+b\n",
    "    print(\"sum of two number is\", c)\n",
    "def sub(a,b):\n",
    "    c=a-b\n",
    "    print(\"substration of two number is\", c)\n",
    "def mul(a,b):\n",
    "    c=a*b\n",
    "    print(\"multiplication of two number is\", c)\n",
    "def div(a,b):\n",
    "    c=a/b\n",
    "    print(\"division of two number is\" , c)\n",
    "    \n",
    "num1= int(input(\"enter a number 1   \"))\n",
    "num2= int(input(\"enter a number 2   \"))\n",
    "x= int(input(\"enter a key to do a operation 1.addition 2.substration 3.multiplication 4.division\"))\n",
    "\n",
    "if(x==1):\n",
    "    add(num1,num2)\n",
    "    \n",
    "elif(x==2):\n",
    "    sub(num1,num2)\n",
    "    \n",
    "elif(x==3):\n",
    "    mul(num1,num2)\n",
    "    \n",
    "else:\n",
    "    div(num1,num2)"
   ]
  },
  {
   "cell_type": "code",
   "execution_count": null,
   "metadata": {},
   "outputs": [],
   "source": []
  },
  {
   "cell_type": "code",
   "execution_count": null,
   "metadata": {},
   "outputs": [],
   "source": []
  }
 ],
 "metadata": {
  "kernelspec": {
   "display_name": "Python 3",
   "language": "python",
   "name": "python3"
  }
 },
 "nbformat": 4,
 "nbformat_minor": 2
}
